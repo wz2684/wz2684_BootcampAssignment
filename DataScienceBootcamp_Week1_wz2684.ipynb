{
 "cells": [
  {
   "cell_type": "markdown",
   "metadata": {
    "id": "kk04ry-vQIjl"
   },
   "source": [
    "## **Data Science Bootcamp, Fall '24**\n",
    "\n",
    "<br>\n",
    "\n",
    "---\n",
    "\n",
    "### Lecture 1 : **Introduction to Python**\n",
    "\n",
    "#### Instructor: **Rohan Chopra**\n",
    "\n",
    "##### October 02, 2024\n",
    "\n",
    "---\n",
    "---\n"
   ]
  },
  {
   "cell_type": "markdown",
   "metadata": {
    "id": "n2rzFzFJCMmM"
   },
   "source": [
    "**Attribution**:\n",
    "\n",
    "-Parts of this notebook are adapted from Abirami Sivakumar's lectures from previous bootcamps."
   ]
  },
  {
   "cell_type": "markdown",
   "metadata": {
    "id": "qt6kPAPOQ33V"
   },
   "source": [
    "## Primitive Datatypes\n",
    "\n",
    "---\n",
    "Python has the following primitive datatypes:\n",
    "\n",
    "<br>\n",
    "\n",
    "|Datatype|Description | Examples|\n",
    "|-----|---------------- |------------|\n",
    "| Int | Integer Numbers | 1,2,3...|\n",
    "|Float| Real Numbers    | 3.14    |\n",
    "|String| Text Contents | \"Hello World\"|\n",
    "|Bool | Boolean Values| True, False|\n",
    "|NoneType| Special Type | None|\n",
    "\n",
    "<br>\n",
    "\n",
    "Their syntax is given in the next cell\n",
    "\n",
    "\n",
    "\n"
   ]
  },
  {
   "cell_type": "code",
   "execution_count": 4,
   "metadata": {
    "id": "YkTbMSOlQJOX"
   },
   "outputs": [
    {
     "name": "stdout",
     "output_type": "stream",
     "text": [
      "a is -  <class 'int'>\n",
      "b is -  <class 'float'>\n",
      "c is -  <class 'str'>\n",
      "d is -  <class 'bool'>\n",
      "e is -  <class 'NoneType'>\n"
     ]
    }
   ],
   "source": [
    "a = 10\n",
    "b = 3.14\n",
    "c = \"Hello World\"\n",
    "d = True\n",
    "e = None\n",
    "\n",
    "print(\"a is - \",type(a) )\n",
    "print(\"b is - \",type(b) )\n",
    "print(\"c is - \",type(c) )\n",
    "print(\"d is - \",type(d) )\n",
    "print(\"e is - \",type(e) )"
   ]
  },
  {
   "cell_type": "markdown",
   "metadata": {
    "id": "l7eSyj2tMRqe"
   },
   "source": [
    "By the way: note that you did not have to declare the variable **'a'** or specify its type before you assigned a value to it. In Python, you can create a variable just by assigning something to it."
   ]
  },
  {
   "cell_type": "markdown",
   "metadata": {
    "id": "UATRHJQZUUA6"
   },
   "source": [
    "## Expressions and Operators\n",
    "\n",
    "---\n",
    "<br>\n",
    "\n",
    "Expressions combine different **objects** and **operators**. An expression has a value and value has a type\n",
    "\n",
    "<br>\n",
    "\n",
    "| Arithmetic | Comparison| Boolean |\n",
    "|------------|-----------|---------|\n",
    "|= Assignment|== Equality| not Negation|\n",
    "|+ Sum| != Inequality| and Conjunction|\n",
    "|- Difference| > More than| or Disjunction|\n",
    "|* Product| >= More or equal | |\n",
    "|/ Division| < Less than | |\n",
    "|// Quotient| <= Less or equal||\n",
    "|% Remainder|\n",
    "|** Power ||"
   ]
  },
  {
   "cell_type": "code",
   "execution_count": 7,
   "metadata": {
    "id": "ZwdpBVgVT8Kg"
   },
   "outputs": [
    {
     "name": "stdout",
     "output_type": "stream",
     "text": [
      "b after addition =  110 \n",
      "\n",
      "Remainder of b divided by 10 is  0 \n",
      "\n",
      "Quotient of b divided by 10 is  11 \n",
      "\n",
      "C : rem ^5 = 0 \n",
      "\n"
     ]
    }
   ],
   "source": [
    "a = 10\n",
    "b = a+100\n",
    "print(\"b after addition = \", b,'\\n')\n",
    "\n",
    "rem = b%10\n",
    "quotient = b//10\n",
    "print(\"Remainder of b divided by 10 is \", rem,'\\n')\n",
    "print(\"Quotient of b divided by 10 is \", quotient,'\\n')\n",
    "\n",
    "\n",
    "c = rem**5\n",
    "print(\"C : rem ^5 =\",c,'\\n')"
   ]
  },
  {
   "cell_type": "code",
   "execution_count": 8,
   "metadata": {
    "id": "8vX2FbCvZnpo"
   },
   "outputs": [
    {
     "name": "stdout",
     "output_type": "stream",
     "text": [
      "False\n",
      "True\n",
      "True\n"
     ]
    }
   ],
   "source": [
    "print(b==10)\n",
    "print((b-100)==10)\n",
    "print(b!=10)"
   ]
  },
  {
   "cell_type": "code",
   "execution_count": 9,
   "metadata": {},
   "outputs": [
    {
     "data": {
      "text/plain": [
       "100"
      ]
     },
     "execution_count": 9,
     "metadata": {},
     "output_type": "execute_result"
    }
   ],
   "source": [
    "b = 100\n",
    "b - 10\n",
    "b"
   ]
  },
  {
   "cell_type": "code",
   "execution_count": 10,
   "metadata": {
    "id": "Qhk0VR3waW8Y"
   },
   "outputs": [
    {
     "name": "stdout",
     "output_type": "stream",
     "text": [
      "False\n",
      "False\n",
      "True\n"
     ]
    }
   ],
   "source": [
    "print(b==110 and c==10)\n",
    "print(b==110 or  c==10)\n",
    "print(not c==10)\n"
   ]
  },
  {
   "cell_type": "markdown",
   "metadata": {
    "id": "nAd1qMMChbhZ"
   },
   "source": [
    "## Compound Data Types/ Containers\n",
    "*Used to store data that is made up of multiple values*\n",
    "\n",
    "1. Lists - Ordered Sequence - Mutable - Mixed element types\n",
    "2. Tuples - Ordered Sequence - Immutable - Mixed element types\n",
    "3. Dictionaries - key-values pairs, - keys have to be unique but values can be duplicate and of any format. Does not have continuous memory allocation. Elements are accessed using keys."
   ]
  },
  {
   "cell_type": "markdown",
   "metadata": {
    "id": "pyLZjJoay464"
   },
   "source": [
    "###Lists:"
   ]
  },
  {
   "cell_type": "code",
   "execution_count": 13,
   "metadata": {
    "colab": {
     "base_uri": "https://localhost:8080/"
    },
    "id": "mV7E53B2ohdZ",
    "outputId": "1e731e96-9725-4eee-a79d-dff4bcfdc238"
   },
   "outputs": [
    {
     "name": "stdout",
     "output_type": "stream",
     "text": [
      "['DataScienceBootcamp', 2024]\n",
      "['DataScienceBootcamp', 2024, 'Section1']\n",
      "2024\n"
     ]
    }
   ],
   "source": [
    "#Lists\n",
    "l = [\"DataScienceBootcamp\",2024] #list declaration and initiation\n",
    "print(l)\n",
    "l.append(\"Section1\") #adding element to end of the list -> like a push operation\n",
    "print(l)\n",
    "\n",
    "l_1= l[1]\n",
    "print(l_1)\n"
   ]
  },
  {
   "cell_type": "markdown",
   "metadata": {
    "id": "wH9JrMQ_0Qum"
   },
   "source": [
    "####Slicing\n",
    "In addition to accessing list elements one at a time, Python provides concise syntax to access sublists; this is known as **slicing**.\n",
    "\n",
    "**Lst[ Initial : End : IndexJump ]**"
   ]
  },
  {
   "cell_type": "code",
   "execution_count": 15,
   "metadata": {
    "colab": {
     "base_uri": "https://localhost:8080/"
    },
    "id": "QvxIes3F0aCo",
    "outputId": "6a4844fb-b0c3-4e60-aab1-f64457cb1f66"
   },
   "outputs": [
    {
     "name": "stdout",
     "output_type": "stream",
     "text": [
      "[0, 1, 2, 3, 4]\n",
      "[2, 3]\n",
      "[2, 3, 4]\n",
      "[0, 1]\n",
      "[0, 1, 2, 3, 4]\n",
      "[0, 1, 2, 3]\n",
      "[0, 1, 8, 9, 4]\n"
     ]
    }
   ],
   "source": [
    "nums = list(range(5))    # range is a built-in function that creates a list of integers\n",
    "print(nums)         # Prints \"[0, 1, 2, 3, 4]\"\n",
    "print(nums[2:4])    # Get a slice from index 2 to 4 (exclusive)\n",
    "print(nums[2:])     # Get a slice from index 2 to the end\n",
    "print(nums[:2])     # Get a slice from the start to index 2 (exclusive)\n",
    "print(nums[:])      # Get a slice of the whole list\n",
    "print(nums[:-1])    # Slice indices can be negative\n",
    "nums[2:4] = [8, 9] # Assign a new sublist to a slice\n",
    "print(nums)"
   ]
  },
  {
   "cell_type": "markdown",
   "metadata": {
    "id": "0RUIbWlJy1YK"
   },
   "source": [
    "As usual, you can find all the gory details about lists in the [documentation](https://docs.python.org/3.7/tutorial/datastructures.html#more-on-lists).\n",
    "\n",
    "\n"
   ]
  },
  {
   "cell_type": "markdown",
   "metadata": {
    "id": "bHnmURcg4nET"
   },
   "source": [
    "###Tuples:"
   ]
  },
  {
   "cell_type": "code",
   "execution_count": 18,
   "metadata": {
    "id": "Yf6mJqw3iBCZ"
   },
   "outputs": [
    {
     "name": "stdout",
     "output_type": "stream",
     "text": [
      "('NYU', 'DataScience', 'bootcamp', 2024, None)\n",
      "bootcamp\n",
      "('DataScience', 'bootcamp')\n"
     ]
    }
   ],
   "source": [
    "#Tuples\n",
    "t = ()\n",
    "t=(\"NYU\",\"DataScience\",\"bootcamp\",2024,None)\n",
    "print(t)\n",
    "print(t[2])\n",
    "print(t[1:3])\n",
    "# t[2]=5\n",
    "# print(t[2])"
   ]
  },
  {
   "cell_type": "markdown",
   "metadata": {
    "id": "qD3uAZXY7ty1"
   },
   "source": [
    "###Dictionary:\n",
    "**dictn={'key':value}**"
   ]
  },
  {
   "cell_type": "code",
   "execution_count": 20,
   "metadata": {
    "id": "itZgrU8279Yy"
   },
   "outputs": [
    {
     "name": "stdout",
     "output_type": "stream",
     "text": [
      "Mango\n",
      "dict_items([('Fruit', 'Mango'), ('Vegetable', 'Beans')])\n"
     ]
    }
   ],
   "source": [
    "dictn={'Fruit':'Mango','Vegetable':'Beans'}\n",
    "print(dictn['Fruit'])\n",
    "print(dictn.items())"
   ]
  },
  {
   "cell_type": "code",
   "execution_count": 21,
   "metadata": {
    "id": "ShshsF7b-WOw"
   },
   "outputs": [
    {
     "name": "stdout",
     "output_type": "stream",
     "text": [
      "cute\n",
      "True\n"
     ]
    }
   ],
   "source": [
    "dt = {'cat': 'cute', 'dog': 'furry'}  # Create a new dictionary with some data\n",
    "print(dt['cat'])       # Get an entry from a dictionary\n",
    "print('cat' in dt)     # Check if a dictionary has a given key"
   ]
  },
  {
   "cell_type": "code",
   "execution_count": 22,
   "metadata": {
    "id": "Z8Ql8cdqjzBi"
   },
   "outputs": [
    {
     "name": "stdout",
     "output_type": "stream",
     "text": [
      "{'key1': 'value1', 'key2': 10}\n",
      "value1\n",
      "10\n",
      "None\n"
     ]
    }
   ],
   "source": [
    "#Dictionaries\n",
    "d={}\n",
    "d['key1']='value1'\n",
    "d['key2']=10\n",
    "print(d)\n",
    "print(d['key1'])\n",
    "print(d.get('key2'))\n",
    "print(d.get('key3'))"
   ]
  },
  {
   "cell_type": "markdown",
   "metadata": {
    "id": "B37WGFjbAg3r"
   },
   "source": [
    "You can find all you need to know about dictionaries in the [documentation](https://docs.python.org/2/library/stdtypes.html#dict)."
   ]
  },
  {
   "cell_type": "markdown",
   "metadata": {
    "id": "Cqp8O_1yeDiU"
   },
   "source": [
    "## Control Flow : Branching, Iteration\n",
    "---\n",
    "\n",
    "Evaluate a block of code if a condition is True.\n",
    "\n",
    "In the following cells we will look at conditional satements(if-else) and loops(for and while)."
   ]
  },
  {
   "cell_type": "markdown",
   "metadata": {
    "id": "fXRrM1tk_DBX"
   },
   "source": [
    "### If-Else\n",
    "Conditional statements in Python allow you to make decisions in your code based on certain conditions. The if-else statement is one of the fundamental building blocks of conditional logic in Python.\n",
    "\n",
    "\n",
    "### Basic Syntax\n",
    "\n",
    "```python\n",
    "if condition:\n",
    "    # Code to execute if the condition is True        #notice indentation\n",
    "else:\n",
    "    # Code to execute if the condition is False\n",
    "```\n",
    "### Elif (Else If)\n",
    "To handle multiple conditions, you can use the elif (short for \"else if\") keyword:"
   ]
  },
  {
   "cell_type": "code",
   "execution_count": 26,
   "metadata": {
    "id": "4FB7-w8Yl_j3"
   },
   "outputs": [
    {
     "name": "stdout",
     "output_type": "stream",
     "text": [
      "This is a medium circle\n"
     ]
    }
   ],
   "source": [
    "#if-else\n",
    "r=10\n",
    "area = 3.14*(r**2)\n",
    "\n",
    "if area>500:\n",
    "  print(\"This is a big circle\")\n",
    "elif area>100 and area<500:\n",
    "  print(\"This is a medium circle\")\n",
    "else:\n",
    "  print(\"This is a small circle\")"
   ]
  },
  {
   "cell_type": "markdown",
   "metadata": {
    "id": "wQNFAAu5S_ri"
   },
   "source": [
    "Note especially the use of colons (:) and whitespace to denote separate blocks of code.\n",
    "\n",
    "A block of code is a set of statements that should be treated as a unit. In C, for example, code blocks are denoted by curly braces:"
   ]
  },
  {
   "cell_type": "markdown",
   "metadata": {
    "id": "nxvd95E_UJGm"
   },
   "source": [
    "```\n",
    "// C code\n",
    "int main()\n",
    "{\n",
    "int i=10;\n",
    "if(i==10)\n",
    "{\n",
    "    print(\"i is 10\");\n",
    "}\n",
    "  return 0;\n",
    "}\n",
    "```\n",
    "In Python code blocks are denoted by Indentation\n",
    "```\n",
    "i = 10\n",
    "if i == 10:\n",
    "    print(\"i is 10\")\n",
    "```"
   ]
  },
  {
   "cell_type": "markdown",
   "metadata": {
    "id": "nUgHnt2a_DBa"
   },
   "source": [
    "### While Loop\n",
    "A `while` loop repeatedly executes code while a condition remains True or until a condition is met.\n",
    "* Use them when the number of iterations is unknown in advance\n",
    "\n",
    "```\n",
    "while condition:\n",
    "    # Code to execute while the condition is True\n",
    "```"
   ]
  },
  {
   "cell_type": "code",
   "execution_count": 30,
   "metadata": {
    "id": "65widh7nmcJb"
   },
   "outputs": [
    {
     "name": "stdout",
     "output_type": "stream",
     "text": [
      "Sum of first 100 numbers is  5050\n"
     ]
    }
   ],
   "source": [
    "#while loop:\n",
    "\n",
    "i=100\n",
    "sum=0\n",
    "while i>0:\n",
    "  sum=sum+i  #can be written as sum+=i as well\n",
    "  i=i-1\n",
    "print(\"Sum of first 100 numbers is \",sum)"
   ]
  },
  {
   "cell_type": "code",
   "execution_count": 31,
   "metadata": {
    "id": "utPh8fLUnm7W"
   },
   "outputs": [
    {
     "name": "stdout",
     "output_type": "stream",
     "text": [
      "Sum of first 100 numbers is  5050\n"
     ]
    }
   ],
   "source": [
    "#Using Break Statement\n",
    "sum = 0\n",
    "i=100\n",
    "while True:\n",
    "  if i<0:\n",
    "    break\n",
    "\n",
    "  sum+=i\n",
    "  i-=1\n",
    "\n",
    "print(\"Sum of first 100 numbers is \",sum)"
   ]
  },
  {
   "cell_type": "markdown",
   "metadata": {
    "id": "IVgE9sba_DBe"
   },
   "source": [
    "### For Loop\n",
    "A `for` loop iterates over a sequence (e.g., lists, strings, ranges) and executes a block of code for each element.\n",
    "```\n",
    "for item in sequence:\n",
    "    # Code to execute for each item\n",
    "```"
   ]
  },
  {
   "cell_type": "code",
   "execution_count": 33,
   "metadata": {
    "id": "_Hq3JmrQnLOY"
   },
   "outputs": [
    {
     "name": "stdout",
     "output_type": "stream",
     "text": [
      "Sum of first 100 numbers is  4950\n"
     ]
    }
   ],
   "source": [
    "#for loop:\n",
    "sum=0\n",
    "for i in range(100):\n",
    "  sum+=i\n",
    "print(\"Sum of first 100 numbers is \",sum)"
   ]
  },
  {
   "cell_type": "markdown",
   "metadata": {
    "id": "kg5mN4uciAaE"
   },
   "source": [
    "Notice the simplicity of the `for` loop: we specify the variable we want to use, the sequence we want to loop over, and use the “`in`” operator to link them together in an intuitive and readable way. More precisely, the object to the right of the “`in`” can be any Python *iterator*.\n"
   ]
  },
  {
   "cell_type": "markdown",
   "metadata": {
    "id": "qMrALIQ4BRp9"
   },
   "source": [
    "We can loop over any list, no matter what type of object is stored in it"
   ]
  },
  {
   "cell_type": "code",
   "execution_count": 36,
   "metadata": {
    "id": "44kfCvK1BVag"
   },
   "outputs": [
    {
     "name": "stdout",
     "output_type": "stream",
     "text": [
      "cat\n",
      "dog\n",
      "monkey\n"
     ]
    }
   ],
   "source": [
    "animals = ['cat', 'dog', 'monkey']\n",
    "for a in animals:\n",
    "    print(a)"
   ]
  },
  {
   "cell_type": "markdown",
   "metadata": {
    "id": "DNbLXKFdBdCC"
   },
   "source": [
    "It is easy to iterate over keys in dictionaries"
   ]
  },
  {
   "cell_type": "code",
   "execution_count": 38,
   "metadata": {
    "colab": {
     "base_uri": "https://localhost:8080/"
    },
    "id": "6_lFqAvQBhj0",
    "outputId": "0242e193-6268-443c-8c8d-fda12f669dd3"
   },
   "outputs": [
    {
     "name": "stdout",
     "output_type": "stream",
     "text": [
      "New York\n",
      "Paris\n",
      "Dubai\n",
      "London\n"
     ]
    }
   ],
   "source": [
    "d={1:'New York',2:'Paris',3:'Dubai',4:'London'}\n",
    "for i,city in d.items():\n",
    "  print(d.get(i))\n",
    "  # print(city)"
   ]
  },
  {
   "cell_type": "markdown",
   "metadata": {
    "id": "Kf73WHEagVy7"
   },
   "source": [
    "#### Practice questions:\n",
    "1. Display Fibonacci Series upto 10 terms\n",
    "2. Display numbers at the odd indices of a list"
   ]
  },
  {
   "cell_type": "markdown",
   "metadata": {
    "id": "C4OU5O4QJKQW"
   },
   "source": [
    "## Operations on Objects\n",
    "Everything in python is an object. Strings are objects, lists are objects, dictionaries are objects, arrays are objects, etc.\n",
    "\n",
    "And objects have functions. We use dot '.' to invoke functions. eg-\n",
    "\n",
    "```\n",
    "l = [1,23,5]\n",
    "l.append(10)\n",
    "print(l)\n",
    "```\n",
    "\n",
    "In this section we will go over some common functions that will prove to be very useful in your day to day tasks.\n"
   ]
  },
  {
   "cell_type": "markdown",
   "metadata": {
    "id": "TxilPAKt_8Ys"
   },
   "source": [
    "### Operations on Strings"
   ]
  },
  {
   "cell_type": "code",
   "execution_count": 42,
   "metadata": {
    "id": "oFGkcwhskZUe"
   },
   "outputs": [
    {
     "name": "stdout",
     "output_type": "stream",
     "text": [
      "This is Data Science Bootcamp Held in Fall'2024\n"
     ]
    }
   ],
   "source": [
    "a = \"This is Data Science Bootcamp\"\n",
    "b = \"Held in Fall'\"+\"2024\"\n",
    "print(a+\" \"+b)\n",
    "\n"
   ]
  },
  {
   "cell_type": "code",
   "execution_count": 43,
   "metadata": {
    "id": "mKrW1WfOlhIG"
   },
   "outputs": [
    {
     "name": "stdout",
     "output_type": "stream",
     "text": [
      "1\n",
      "23\n",
      "3\n"
     ]
    }
   ],
   "source": [
    "s = \"12345\"\n",
    "print(s[0])\n",
    "print(s[1:3])\n",
    "print(s[-3])"
   ]
  },
  {
   "cell_type": "code",
   "execution_count": 44,
   "metadata": {
    "id": "usIwEE6H-nUu"
   },
   "outputs": [
    {
     "data": {
      "text/plain": [
       "['1', '2', '3', '4', '5']"
      ]
     },
     "execution_count": 44,
     "metadata": {},
     "output_type": "execute_result"
    }
   ],
   "source": [
    "list(s)\n"
   ]
  },
  {
   "cell_type": "code",
   "execution_count": 45,
   "metadata": {
    "id": "6_7V6zqh-4Ve"
   },
   "outputs": [
    {
     "data": {
      "text/plain": [
       "['I', 'am', 'part', 'of', 'the', 'Data', 'Science', 'Bootcamp', 'at', 'NYU']"
      ]
     },
     "execution_count": 45,
     "metadata": {},
     "output_type": "execute_result"
    }
   ],
   "source": [
    "TestString = \"I am part of the Data Science Bootcamp at NYU\"\n",
    "TestString.split(\" \")"
   ]
  },
  {
   "cell_type": "code",
   "execution_count": 46,
   "metadata": {
    "id": "s_4BKX6s_HSc"
   },
   "outputs": [
    {
     "data": {
      "text/plain": [
       "'I am part of the Data Science Bootcamp at NYU'"
      ]
     },
     "execution_count": 46,
     "metadata": {},
     "output_type": "execute_result"
    }
   ],
   "source": [
    "l = TestString.split(\" \")\n",
    "\" \".join(l)"
   ]
  },
  {
   "cell_type": "markdown",
   "metadata": {
    "id": "qbFpT5uIW2ke"
   },
   "source": [
    "String objects have a bunch of useful methods; for example:*italicized text*"
   ]
  },
  {
   "cell_type": "code",
   "execution_count": 48,
   "metadata": {
    "id": "Y_OjRNfFM5hX"
   },
   "outputs": [
    {
     "name": "stdout",
     "output_type": "stream",
     "text": [
      "Hello\n",
      "HELLO\n",
      "  hello\n",
      " hello \n",
      "he(ell)(ell)o\n"
     ]
    }
   ],
   "source": [
    "s = \"hello\"\n",
    "print(s.capitalize())  # Capitalize a string\n",
    "print(s.upper())       # Convert a string to uppercase; prints \"HELLO\"\n",
    "print(s.rjust(7))      # Right-justify a string, padding with spaces\n",
    "print(s.center(7))     # Center a string, padding with spaces\n",
    "print(s.replace('l', '(ell)'))  # Replace all instances of one substring with another"
   ]
  },
  {
   "cell_type": "markdown",
   "metadata": {
    "id": "tv6C8iWaACNg"
   },
   "source": [
    "### Operations on Lists"
   ]
  },
  {
   "cell_type": "code",
   "execution_count": 50,
   "metadata": {
    "id": "zyMvaFJq_bqb"
   },
   "outputs": [
    {
     "name": "stdout",
     "output_type": "stream",
     "text": [
      "['apple', 'mango', 'banana', 'orange']\n",
      "['apple', 'mango', 'banana', 'orange', 'kiwi']\n",
      "orange\n",
      "----------------\n",
      "['kiwi', 'orange', 'banana', 'mango', 'apple']\n",
      "['apple', 'mango', 'banana', 'orange', 'kiwi', ['apple', 'mango']]\n",
      "----------------\n",
      "2D indexing\n",
      "mango\n"
     ]
    }
   ],
   "source": [
    "l =['apple','mango']\n",
    "m = ['banana', 'orange']\n",
    "lm = l+m\n",
    "print(lm)\n",
    "lm.append('kiwi')\n",
    "print(lm)\n",
    "print(lm[-2])\n",
    "\n",
    "print(\"----------------\")\n",
    "\n",
    "print(lm[::-1]) # Reverse Indexing\n",
    "lm.append(lm[:2])\n",
    "print(lm)\n",
    "print(\"----------------\")\n",
    "print(\"2D indexing\")\n",
    "print(lm[-1][1])"
   ]
  },
  {
   "cell_type": "markdown",
   "metadata": {
    "id": "77Cn0pIIo-C5"
   },
   "source": [
    "### Operations on Dictionaries"
   ]
  },
  {
   "cell_type": "code",
   "execution_count": 52,
   "metadata": {
    "id": "Ai4v5R7XAyVr"
   },
   "outputs": [
    {
     "name": "stdout",
     "output_type": "stream",
     "text": [
      "1\n",
      "3\n",
      "dict_keys(['a', 'b', 'c'])\n",
      "dict_values([1, 2, [3, 4]])\n",
      "dict_items([('a', 1), ('b', 2), ('c', [3, 4])])\n"
     ]
    }
   ],
   "source": [
    "mydict = {\"a\":1, \"b\":2, \"c\":[3,4]}\n",
    "print(mydict['a']) #accessing an element\n",
    "print(len(mydict)) #number of keys in a dictionary\n",
    "print(mydict.keys()) # accessing the keys of the dictionary\n",
    "print(mydict.values()) #iterable over the values of the dictionary\n",
    "print(mydict.items())  #iterable with (key,value) pairs"
   ]
  },
  {
   "cell_type": "markdown",
   "metadata": {
    "id": "4JeAs1WZssRE"
   },
   "source": [
    "### Practice Question"
   ]
  },
  {
   "cell_type": "code",
   "execution_count": 54,
   "metadata": {
    "id": "MOSWtcyLsoKr"
   },
   "outputs": [],
   "source": [
    "string = \"\"\"\n",
    "I have provided this text to provide tips on creating interesting paragraphs.\n",
    "First, start with a clear topic sentence that introduces the main idea.\n",
    "Then, support the topic sentence with specific details, examples, and evidence.\n",
    "Vary the sentence length and structure to keep the reader engaged.\n",
    "Finally, end with a strong concluding sentence that summarizes the main points.\n",
    "Remember, practice makes perfect!\n",
    "\"\"\"\n",
    "#Your task is to count the number of different words in this text"
   ]
  },
  {
   "cell_type": "markdown",
   "metadata": {
    "id": "ZCIagPRDviy9"
   },
   "source": [
    "## **Functions in Python**\n",
    "\n",
    "Python functions are defined using the `def` keyword. The general syntax for defining a function is as follows -\n",
    "\n",
    "```\n",
    "def function_name([optional parameters]):\n",
    "  \"\"\"DocString\"\"\"\n",
    "  <body>\n",
    "  return <output>\n",
    "```\n",
    "\n",
    "\n",
    "\n"
   ]
  },
  {
   "cell_type": "code",
   "execution_count": 56,
   "metadata": {
    "id": "CBzEkA2Vtsin"
   },
   "outputs": [],
   "source": [
    "# Function for testing if a number is even\n",
    "\n",
    "def test_even_number(number):\n",
    "  return number%2==0    # Returns true if the remainder is 0, else returns false"
   ]
  },
  {
   "cell_type": "code",
   "execution_count": 57,
   "metadata": {
    "id": "eD1Nh5Sgw9X_"
   },
   "outputs": [
    {
     "data": {
      "text/plain": [
       "True"
      ]
     },
     "execution_count": 57,
     "metadata": {},
     "output_type": "execute_result"
    }
   ],
   "source": [
    "test_even_number(12)"
   ]
  },
  {
   "cell_type": "code",
   "execution_count": 58,
   "metadata": {
    "colab": {
     "base_uri": "https://localhost:8080/"
    },
    "id": "BDvzeaJE-QsA",
    "outputId": "f4e5a90e-d81f-477c-c5f8-2b47772f8ca4"
   },
   "outputs": [
    {
     "name": "stdout",
     "output_type": "stream",
     "text": [
      "negative\n",
      "zero\n",
      "positive\n"
     ]
    }
   ],
   "source": [
    "def sign(x):\n",
    "  '''Function that returns the sign of a number'''\n",
    "  if x > 0:\n",
    "    return 'positive'\n",
    "  elif x < 0:\n",
    "    return 'negative'\n",
    "  else:\n",
    "    return 'zero'\n",
    "\n",
    "for x in [-1, 0, 1]:\n",
    "    print(sign(x))"
   ]
  },
  {
   "cell_type": "markdown",
   "metadata": {
    "id": "PM6rsoDbx2BU"
   },
   "source": [
    "## Scope of the variables\n",
    "Specifies the region where we have access to the variable.\n",
    "It's very important to understand the scope of variables. It can be -\n",
    "1. Global scope - Variables defined outside and accessible within the functions(\"Visible everywhere\")\n",
    "2. Local scope - variable defined within the function and not accessible outside the function\n"
   ]
  },
  {
   "cell_type": "code",
   "execution_count": 60,
   "metadata": {
    "id": "Bz-7CumgxAFS"
   },
   "outputs": [
    {
     "name": "stdout",
     "output_type": "stream",
     "text": [
      "Accessing y from within the function  10\n",
      "100\n",
      "10\n"
     ]
    }
   ],
   "source": [
    "def f(z):\n",
    "  z=z**2\n",
    "  print(\"Accessing y from within the function \",y)\n",
    "  return z\n",
    "\n",
    "y = 10\n",
    "print(f(y))\n",
    "print(y)\n",
    "# print(z)\n"
   ]
  },
  {
   "cell_type": "markdown",
   "metadata": {
    "id": "ezlXaH5e2up_"
   },
   "source": [
    "## Take home exercises\n",
    "\n",
    "1. Write a function  *count_vowels(word)* that takes a word as an argument and returns the number of vowels in the word\n",
    "2. Iterate through the following list of animals and print each one in all caps.\n",
    "\n",
    "  animals=['tiger', 'elephant', 'monkey', 'zebra', 'panther']\n",
    "\n",
    "3. Write a program that iterates from 1 to 20, printing each number and whether it's odd or even.\n",
    "4. Write a function *sum_of_integers(a, b)* that takes two integers as input from the user and returns their sum.\n"
   ]
  },
  {
   "cell_type": "code",
   "execution_count": 106,
   "metadata": {},
   "outputs": [
    {
     "name": "stdout",
     "output_type": "stream",
     "text": [
      "2\n",
      "3\n"
     ]
    }
   ],
   "source": [
    "# 1\n",
    "def count_vowels(words):\n",
    "    letter = words.lower()\n",
    "    vowels = ['a', 'e', 'i', 'o', 'u']\n",
    "    count = 0\n",
    "    for c in letter:\n",
    "        if c in vowels:\n",
    "            count = count + 1\n",
    "    return count \n",
    "\n",
    "print(count_vowels('AA'))\n",
    "print(count_vowels('Alice'))"
   ]
  },
  {
   "cell_type": "code",
   "execution_count": 110,
   "metadata": {},
   "outputs": [
    {
     "name": "stdout",
     "output_type": "stream",
     "text": [
      "TIGER\n",
      "ELEPHANT\n",
      "MONKEY\n",
      "ZEBRA\n",
      "PANTHER\n"
     ]
    }
   ],
   "source": [
    "#2 \n",
    "animals=['tiger', 'elephant', 'monkey', 'zebra', 'panther']\n",
    "for an in animals:\n",
    "    print(an.upper())"
   ]
  },
  {
   "cell_type": "code",
   "execution_count": 112,
   "metadata": {},
   "outputs": [
    {
     "name": "stdout",
     "output_type": "stream",
     "text": [
      "1, the number is odd\n",
      "2, the number is even\n",
      "3, the number is odd\n",
      "4, the number is even\n",
      "5, the number is odd\n",
      "6, the number is even\n",
      "7, the number is odd\n",
      "8, the number is even\n",
      "9, the number is odd\n",
      "10, the number is even\n",
      "11, the number is odd\n",
      "12, the number is even\n",
      "13, the number is odd\n",
      "14, the number is even\n",
      "15, the number is odd\n",
      "16, the number is even\n",
      "17, the number is odd\n",
      "18, the number is even\n",
      "19, the number is odd\n",
      "20, the number is even\n"
     ]
    }
   ],
   "source": [
    "#3 \n",
    "for i in range(1,21):\n",
    "    is_even = (i%2==0)\n",
    "    if is_even == True:\n",
    "        print(f'{i}, the number is even')\n",
    "    else:\n",
    "        print(f'{i}, the number is odd')"
   ]
  },
  {
   "cell_type": "code",
   "execution_count": 114,
   "metadata": {},
   "outputs": [
    {
     "data": {
      "text/plain": [
       "7"
      ]
     },
     "execution_count": 114,
     "metadata": {},
     "output_type": "execute_result"
    }
   ],
   "source": [
    "#4\n",
    "def sum_of_integers(a, b):\n",
    "    return a+b\n",
    "\n",
    "def sum_of_integersV2():\n",
    "    a = int(input(\"First integer: \"))\n",
    "    b = int(input(\"Second integer: \"))\n",
    "    return a + b\n",
    "\n",
    "sum_of_integers(3,4)"
   ]
  },
  {
   "cell_type": "markdown",
   "metadata": {
    "id": "8BtJxyCP7MN2"
   },
   "source": [
    "## Additional Challenge - Books data challenge"
   ]
  },
  {
   "cell_type": "code",
   "execution_count": 63,
   "metadata": {
    "id": "7RbAd58HUDOc"
   },
   "outputs": [],
   "source": [
    "books = [\n",
    "    {\n",
    "        \"title\": \"The Great Gatsby\",\n",
    "        \"author\": \"F. Scott Fitzgerald\",\n",
    "        \"genre\": \"Fiction\",\n",
    "        \"rating\": 4.2\n",
    "    },\n",
    "    {\n",
    "        \"title\": \"To Kill a Mockingbird\",\n",
    "        \"author\": \"Harper Lee\",\n",
    "        \"genre\": \"Classic\",\n",
    "        \"rating\": 4.5\n",
    "    },\n",
    "    {\n",
    "        \"title\": \"1984\",\n",
    "        \"author\": \"George Orwell\",\n",
    "        \"genre\": \"Dystopian\",\n",
    "        \"rating\": 4.8\n",
    "    },\n",
    "    {\n",
    "        \"title\": \"Pride and Prejudice\",\n",
    "        \"author\": \"Jane Austen\",\n",
    "        \"genre\": \"Romance\",\n",
    "        \"rating\": 4.7\n",
    "    },\n",
    "    {\n",
    "        \"title\": \"Harry Potter and the Sorcerer's Stone\",\n",
    "        \"author\": \"J.K. Rowling\",\n",
    "        \"genre\": \"Fantasy\",\n",
    "        \"rating\": 4.9\n",
    "    },\n",
    "    {\n",
    "        \"title\": \"The Catcher in the Rye\",\n",
    "        \"author\": \"J.D. Salinger\",\n",
    "        \"genre\": \"Coming-of-age\",\n",
    "        \"rating\": 4.1\n",
    "    }\n",
    "]"
   ]
  },
  {
   "cell_type": "markdown",
   "metadata": {
    "id": "EiR5GmoY7VzW"
   },
   "source": [
    "1.Checking Book Ratings\n",
    "\n",
    "Write a function `check_rating(book)` that takes a book dictionary and returns True if the rating is greater than 4.5, and False otherwise. Additionally, modify the function to return 'low' if the rating is less than or equal to 4.0, 'medium' if it's greater than 4.0 but less than or equal to 4.5, and 'high' if it's greater than 4.5.\n",
    "\n",
    "2.Average Rating by Genre\n",
    "\n",
    "Write a function `average_rating_by_genre(books, genre)` that accepts the list of books and a genre, and returns the average rating for that genre. If the genre does not exist in the list, return an appropriate message.\n",
    "\n",
    "3.Books by Author\n",
    "\n",
    "Write a function `books_by_author(books, author)` that accepts the book list and an author's name, and returns a list of all the books written by that author. If the author does not exist, raise a custom error."
   ]
  },
  {
   "cell_type": "code",
   "execution_count": 118,
   "metadata": {
    "id": "fAUCBBoxDXJ7"
   },
   "outputs": [],
   "source": [
    "def check_rating_org(book):\n",
    "    rating = book['rating']\n",
    "    if rating < 4.5:\n",
    "        return False\n",
    "    else:\n",
    "        return True \n",
    "#modified\n",
    "def check_rating(book):\n",
    "    rating = book['rating']\n",
    "    if rating <= 4.0:\n",
    "        return 'low'\n",
    "    elif 4.0 < rating <= 4.5:\n",
    "        return 'medium'\n",
    "    else:\n",
    "        return 'high' "
   ]
  },
  {
   "cell_type": "code",
   "execution_count": 124,
   "metadata": {},
   "outputs": [],
   "source": [
    "def average_rating_by_genre(books, genre):\n",
    "    value = 0\n",
    "    count = 0\n",
    "    for k in books:\n",
    "        temp = k['genre'].lower()\n",
    "        if temp != genre.lower():\n",
    "            continue\n",
    "        else:\n",
    "            count = count + 1\n",
    "            value = value + k['rating']\n",
    "    if count == 0:\n",
    "        return 'No Book in this Genre'\n",
    "    else:\n",
    "        return value/count"
   ]
  },
  {
   "cell_type": "code",
   "execution_count": 128,
   "metadata": {},
   "outputs": [
    {
     "data": {
      "text/plain": [
       "4.5"
      ]
     },
     "execution_count": 128,
     "metadata": {},
     "output_type": "execute_result"
    }
   ],
   "source": [
    "average_rating_by_genre(books, 'classic')"
   ]
  },
  {
   "cell_type": "code",
   "execution_count": null,
   "metadata": {},
   "outputs": [],
   "source": [
    "def books_by_author(books, author):\n",
    "    "
   ]
  }
 ],
 "metadata": {
  "colab": {
   "provenance": []
  },
  "kernelspec": {
   "display_name": "Python 3 (ipykernel)",
   "language": "python",
   "name": "python3"
  },
  "language_info": {
   "codemirror_mode": {
    "name": "ipython",
    "version": 3
   },
   "file_extension": ".py",
   "mimetype": "text/x-python",
   "name": "python",
   "nbconvert_exporter": "python",
   "pygments_lexer": "ipython3",
   "version": "3.11.7"
  }
 },
 "nbformat": 4,
 "nbformat_minor": 4
}
